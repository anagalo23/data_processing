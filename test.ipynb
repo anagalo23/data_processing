{
 "cells": [
  {
   "cell_type": "code",
   "execution_count": 1,
   "id": "7503127a",
   "metadata": {},
   "outputs": [
    {
     "data": {
      "text/plain": [
       "4"
      ]
     },
     "execution_count": 1,
     "metadata": {},
     "output_type": "execute_result"
    }
   ],
   "source": [
    "a=4\n",
    "a"
   ]
  },
  {
   "cell_type": "code",
   "execution_count": 9,
   "id": "65eec7fb",
   "metadata": {},
   "outputs": [],
   "source": [
    "string_val = \"Mr Ilboudo\""
   ]
  },
  {
   "cell_type": "code",
   "execution_count": 10,
   "id": "65ebe120",
   "metadata": {},
   "outputs": [
    {
     "data": {
      "text/plain": [
       "['Mr', 'Ilboudo']"
      ]
     },
     "execution_count": 10,
     "metadata": {},
     "output_type": "execute_result"
    }
   ],
   "source": [
    "x= string_val.split()\n",
    "y=x[1]\n",
    "x"
   ]
  },
  {
   "cell_type": "code",
   "execution_count": 11,
   "id": "55d4e311",
   "metadata": {},
   "outputs": [
    {
     "data": {
      "text/plain": [
       "'Mr Ilboudo est un étudiant de Master FD & IA'"
      ]
     },
     "execution_count": 11,
     "metadata": {},
     "output_type": "execute_result"
    }
   ],
   "source": [
    "string_val+=\" est un étudiant de Master FD & IA\"\n",
    "string_val"
   ]
  }
 ],
 "metadata": {
  "kernelspec": {
   "display_name": "Python 3",
   "language": "python",
   "name": "python3"
  },
  "language_info": {
   "codemirror_mode": {
    "name": "ipython",
    "version": 3
   },
   "file_extension": ".py",
   "mimetype": "text/x-python",
   "name": "python",
   "nbconvert_exporter": "python",
   "pygments_lexer": "ipython3",
   "version": "3.8.8"
  }
 },
 "nbformat": 4,
 "nbformat_minor": 5
}
